{
 "cells": [
  {
   "cell_type": "code",
   "execution_count": 1,
   "metadata": {},
   "outputs": [],
   "source": [
    "import numpy as np\n",
    "import pandas as pd\n",
    "\n",
    "from sklearn.cluster import KMeans, AgglomerativeClustering, DBSCAN, ward_tree, SpectralClustering\n",
    "\n",
    "# ustawianie statyczne ziarna losowania ->\n",
    "# zapewnienie powtarzalności generowanychn wyników\n",
    "np.random.seed(1234)"
   ]
  },
  {
   "cell_type": "code",
   "execution_count": 2,
   "metadata": {},
   "outputs": [
    {
     "data": {
      "text/plain": [
       "(45211, 97)"
      ]
     },
     "execution_count": 2,
     "metadata": {},
     "output_type": "execute_result"
    }
   ],
   "source": [
    "clean_df2 = pd.read_csv('clean_df2.csv')\n",
    "clean_df2.shape"
   ]
  },
  {
   "cell_type": "code",
   "execution_count": 3,
   "metadata": {},
   "outputs": [
    {
     "data": {
      "text/plain": [
       "(45211, 96)"
      ]
     },
     "execution_count": 3,
     "metadata": {},
     "output_type": "execute_result"
    }
   ],
   "source": [
    "input_df = np.array(clean_df2)[:, 1:]\n",
    "input_df.shape"
   ]
  },
  {
   "cell_type": "code",
   "execution_count": 4,
   "metadata": {},
   "outputs": [
    {
     "data": {
      "text/plain": [
       "(22606, 97)"
      ]
     },
     "execution_count": 4,
     "metadata": {},
     "output_type": "execute_result"
    }
   ],
   "source": [
    "# 2. podejście\n",
    "# zbiór zredukowany o połowę\n",
    "\n",
    "# od tego miejsca Spactral Clustering\n",
    "\n",
    "reduced_df = clean_df2[::2]\n",
    "reduced_df.shape"
   ]
  },
  {
   "cell_type": "code",
   "execution_count": 1,
   "metadata": {},
   "outputs": [],
   "source": [
    "# te wyniki masz wygenerowane i zapisane, nie powtarzam tutaj obliczeń\n",
    "\n",
    "# models = [\n",
    "#     ('KM_2', KMeans(n_clusters=2)),\n",
    "#     ('KM_3', KMeans(n_clusters=3)),\n",
    "#     ('KM_4', KMeans(n_clusters=4)),\n",
    "#     ('KM_5', KMeans(n_clusters=5)),\n",
    "#     ('KM_6', KMeans(n_clusters=6)),\n",
    "#     ('AG_2', AgglomerativeClustering(n_clusters=2)),\n",
    "#     ('AG_3', AgglomerativeClustering(n_clusters=3)),\n",
    "#     ('AG_4', AgglomerativeClustering(n_clusters=4)),\n",
    "#     ('AG_5', AgglomerativeClustering(n_clusters=5)),\n",
    "#     ('AG_6', AgglomerativeClustering(n_clusters=6))\n",
    "    \n",
    "# ]\n",
    "\n",
    "# results_reduced = {}\n",
    "\n",
    "# for name, model in models:\n",
    "#     clf = model\n",
    "#     results_reduced[name] = clf.fit_predict(reduced_df)\n",
    "#     print(name, ' results:')\n",
    "#     print(pd.Series(results_reduced[name]).value_counts())\n",
    "#     print('\\n')\n",
    "    \n",
    "# pd.DataFrame(results_reduced).to_csv('results_reduced.csv')\n",
    "# results_reduced_df = pd.DataFrame(results_reduced)"
   ]
  },
  {
   "cell_type": "code",
   "execution_count": null,
   "metadata": {},
   "outputs": [],
   "source": [
    "models = [\n",
    "    ('SC_2', SpectralClustering(n_clusters=2)),\n",
    "    ('SC_3', SpectralClustering(n_clusters=3)),\n",
    "    ('SC_4', SpectralClustering(n_clusters=4)),\n",
    "    ('SC_5', SpectralClustering(n_clusters=5)),\n",
    "    ('SC_6', SpectralClustering(n_clusters=6))\n",
    "]\n",
    "\n",
    "results_reduced_2 = {}\n",
    "\n",
    "for name, model in models:\n",
    "    clf = model\n",
    "    results_reduced_2[name] = clf.fit_predict(reduced_df)\n",
    "    print(name, ' results:')\n",
    "    print(pd.Series(results_reduced[name]).value_counts())\n",
    "    print('\\n')\n",
    "    \n",
    "pd.DataFrame(results_reduced_2).to_csv('results_reduced_2.csv')\n",
    "results_reduced_2_df = pd.DataFrame(results_reduced_2)"
   ]
  }
 ],
 "metadata": {
  "kernelspec": {
   "display_name": "Python 3",
   "language": "python",
   "name": "python3"
  },
  "language_info": {
   "codemirror_mode": {
    "name": "ipython",
    "version": 3
   },
   "file_extension": ".py",
   "mimetype": "text/x-python",
   "name": "python",
   "nbconvert_exporter": "python",
   "pygments_lexer": "ipython3",
   "version": "3.5.2"
  }
 },
 "nbformat": 4,
 "nbformat_minor": 4
}
